{
 "cells": [
  {
   "cell_type": "code",
   "execution_count": 1,
   "id": "e62c9840",
   "metadata": {},
   "outputs": [],
   "source": [
    "import json\n",
    "import networkx as nx\n",
    "import pandas as pd"
   ]
  },
  {
   "cell_type": "code",
   "execution_count": 2,
   "id": "dae6a908",
   "metadata": {},
   "outputs": [],
   "source": [
    "data = json.load(open(\"../data/GOOG_two_hop_subgraph.json\"))"
   ]
  },
  {
   "cell_type": "code",
   "execution_count": 3,
   "id": "77e47ca6",
   "metadata": {},
   "outputs": [],
   "source": [
    "G = nx.Graph()"
   ]
  },
  {
   "cell_type": "code",
   "execution_count": 4,
   "id": "9d7386fb",
   "metadata": {},
   "outputs": [
    {
     "data": {
      "text/plain": [
       "{'identity': 1332,\n",
       " 'labels': ['Company'],\n",
       " 'properties': {'ticker': 'GOOG',\n",
       "  'cik': '0001652044',\n",
       "  'fiscalYearEnd': '1231',\n",
       "  'businessSegments': '',\n",
       "  'irsNumber': '611767919',\n",
       "  'exchangeTicker': 'Nasdaq',\n",
       "  'mailingAddress': '1600 AMPHITHEATRE PARKWAY MOUNTAIN VIEW CA 94043 CA',\n",
       "  'sicCode': '7370',\n",
       "  'stateCodeOfIncorporation': 'DE',\n",
       "  'name': 'Alphabet Inc.',\n",
       "  'productServices': '',\n",
       "  'stateCode': 'CA',\n",
       "  'businessAddress': '1600 AMPHITHEATRE PARKWAY MOUNTAIN VIEW CA 94043 CA 650-253-0000'},\n",
       " 'elementId': '1332'}"
      ]
     },
     "execution_count": 4,
     "metadata": {},
     "output_type": "execute_result"
    }
   ],
   "source": [
    "data[0][\"nodes\"][0]"
   ]
  },
  {
   "cell_type": "code",
   "execution_count": 5,
   "id": "bf4c9292",
   "metadata": {},
   "outputs": [],
   "source": [
    "company_nodes = set()"
   ]
  },
  {
   "cell_type": "code",
   "execution_count": 6,
   "id": "4024dff9",
   "metadata": {},
   "outputs": [],
   "source": [
    "for i in data[0][\"nodes\"]:\n",
    "    G.add_node(i[\"identity\"], **i)\n",
    "    \n",
    "    if \"Company\" in i[\"labels\"]:\n",
    "        company_nodes.add(i[\"identity\"])"
   ]
  },
  {
   "cell_type": "code",
   "execution_count": 7,
   "id": "a3f1a72a",
   "metadata": {},
   "outputs": [],
   "source": [
    "unallowed_types = [\"HAS_EXCHANGE_MARKET\", \"HAS_STATE_OF_INCORPORATION\"]"
   ]
  },
  {
   "cell_type": "code",
   "execution_count": 8,
   "id": "e31309a2",
   "metadata": {},
   "outputs": [
    {
     "data": {
      "text/plain": [
       "{'identity': 91665,\n",
       " 'start': 1332,\n",
       " 'end': 950,\n",
       " 'type': 'HAS_STATE_LOCATION',\n",
       " 'properties': {},\n",
       " 'elementId': '91665',\n",
       " 'startNodeElementId': '1332',\n",
       " 'endNodeElementId': '950'}"
      ]
     },
     "execution_count": 8,
     "metadata": {},
     "output_type": "execute_result"
    }
   ],
   "source": [
    "data[0][\"relationships\"][0]"
   ]
  },
  {
   "cell_type": "code",
   "execution_count": 10,
   "id": "ce51a977",
   "metadata": {},
   "outputs": [],
   "source": [
    "for i in data[0][\"relationships\"]:\n",
    "    if i[\"type\"] not in unallowed_types:\n",
    "        G.add_edge(i[\"start\"], i[\"end\"], **i)"
   ]
  },
  {
   "cell_type": "code",
   "execution_count": 11,
   "id": "570c1a02",
   "metadata": {},
   "outputs": [],
   "source": [
    "def get_all_non_company_neighbours(G, origin):\n",
    "    res = []\n",
    "    for n in G.neighbors(origin):\n",
    "        if \"Company\" not in G.nodes[n][\"labels\"]:\n",
    "            res.append(n)\n",
    "    return res"
   ]
  },
  {
   "cell_type": "code",
   "execution_count": 12,
   "id": "789bff8f",
   "metadata": {},
   "outputs": [],
   "source": [
    "def create_new_edges(G, origin):\n",
    "    non_company_neighbours = get_all_non_company_neighbours(G, origin)\n",
    "    \n",
    "    for n in non_company_neighbours:\n",
    "        # get relation type\n",
    "        r_type = G.edges[origin, n][\"type\"]\n",
    "        \n",
    "        # get all nodes that are connected to it with the same type\n",
    "        for neighbour in G.neighbors(n):\n",
    "            # check their type\n",
    "            if r_type == G.edges[n, neighbour][\"type\"] and (\"Company\" in G.nodes[neighbour][\"labels\"]):\n",
    "                data = {\n",
    "                    \"start\": origin,\n",
    "                    \"end\": neighbour,\n",
    "                    \"type\": \"COMMON_\" + r_type\n",
    "                }\n",
    "                G.add_edge(origin, neighbour, **data)"
   ]
  },
  {
   "cell_type": "code",
   "execution_count": 15,
   "id": "74131ad1",
   "metadata": {},
   "outputs": [
    {
     "data": {
      "text/plain": [
       "940"
      ]
     },
     "execution_count": 15,
     "metadata": {},
     "output_type": "execute_result"
    }
   ],
   "source": [
    "nx.number_connected_components(G)"
   ]
  },
  {
   "cell_type": "code",
   "execution_count": null,
   "id": "ca0ac689",
   "metadata": {},
   "outputs": [],
   "source": []
  }
 ],
 "metadata": {
  "kernelspec": {
   "display_name": "Python 3 (ipykernel)",
   "language": "python",
   "name": "python3"
  },
  "language_info": {
   "codemirror_mode": {
    "name": "ipython",
    "version": 3
   },
   "file_extension": ".py",
   "mimetype": "text/x-python",
   "name": "python",
   "nbconvert_exporter": "python",
   "pygments_lexer": "ipython3",
   "version": "3.9.13"
  }
 },
 "nbformat": 4,
 "nbformat_minor": 5
}
