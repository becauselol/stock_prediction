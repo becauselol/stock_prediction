{
 "cells": [
  {
   "cell_type": "code",
   "execution_count": 1,
   "id": "c90f5a36",
   "metadata": {},
   "outputs": [],
   "source": [
    "import json\n",
    "import pandas as pd\n",
    "import networkx as nx\n",
    "import collections\n",
    "import torch"
   ]
  },
  {
   "cell_type": "code",
   "execution_count": 14,
   "id": "f275db41",
   "metadata": {},
   "outputs": [],
   "source": [
    "G = nx.MultiDiGraph()"
   ]
  },
  {
   "cell_type": "code",
   "execution_count": 15,
   "id": "881922ec",
   "metadata": {},
   "outputs": [],
   "source": [
    "G.add_node(1)"
   ]
  },
  {
   "cell_type": "code",
   "execution_count": 16,
   "id": "3fe932a8",
   "metadata": {},
   "outputs": [],
   "source": [
    "G.add_node(2)"
   ]
  },
  {
   "cell_type": "code",
   "execution_count": 24,
   "id": "80aabc8c",
   "metadata": {},
   "outputs": [
    {
     "data": {
      "text/plain": [
       "'lol'"
      ]
     },
     "execution_count": 24,
     "metadata": {},
     "output_type": "execute_result"
    }
   ],
   "source": [
    "G.add_edge(1,2, key=\"lol\",t=0)"
   ]
  },
  {
   "cell_type": "code",
   "execution_count": 18,
   "id": "92fe7db1",
   "metadata": {},
   "outputs": [
    {
     "data": {
      "text/plain": [
       "1"
      ]
     },
     "execution_count": 18,
     "metadata": {},
     "output_type": "execute_result"
    }
   ],
   "source": [
    "G.add_edge(1,2,t=1)"
   ]
  },
  {
   "cell_type": "code",
   "execution_count": 25,
   "id": "2f7c3593",
   "metadata": {},
   "outputs": [
    {
     "data": {
      "text/plain": [
       "{'t': 0}"
      ]
     },
     "execution_count": 25,
     "metadata": {},
     "output_type": "execute_result"
    }
   ],
   "source": [
    "G.edges[1,2,\"lol\"]"
   ]
  },
  {
   "cell_type": "code",
   "execution_count": 3,
   "id": "2b7b7557",
   "metadata": {},
   "outputs": [],
   "source": [
    "from torch_geometric.datasets import Planetoid\n",
    "\n",
    "dataset = Planetoid(root='/tmp/Cora', name='Cora')"
   ]
  },
  {
   "cell_type": "code",
   "execution_count": 13,
   "id": "36a31dc5",
   "metadata": {},
   "outputs": [
    {
     "data": {
      "text/plain": [
       "Cora()"
      ]
     },
     "execution_count": 13,
     "metadata": {},
     "output_type": "execute_result"
    }
   ],
   "source": [
    "dataset"
   ]
  },
  {
   "cell_type": "code",
   "execution_count": 33,
   "id": "e63dc11d",
   "metadata": {},
   "outputs": [
    {
     "data": {
      "text/plain": [
       "tensor([3, 4, 4,  ..., 3, 3, 3])"
      ]
     },
     "execution_count": 33,
     "metadata": {},
     "output_type": "execute_result"
    }
   ],
   "source": [
    "dataset[0].y"
   ]
  },
  {
   "cell_type": "code",
   "execution_count": 12,
   "id": "71a1b47d",
   "metadata": {},
   "outputs": [
    {
     "data": {
      "text/plain": [
       "tensor([0., 0., 0.,  ..., 0., 0., 0.])"
      ]
     },
     "execution_count": 12,
     "metadata": {},
     "output_type": "execute_result"
    }
   ],
   "source": [
    "dataset[0].x[2707]"
   ]
  },
  {
   "cell_type": "code",
   "execution_count": 9,
   "id": "ac8fa789",
   "metadata": {},
   "outputs": [
    {
     "data": {
      "text/plain": [
       "Data(x=[2708, 1433], edge_index=[2, 10556], y=[2708], train_mask=[2708], val_mask=[2708], test_mask=[2708])"
      ]
     },
     "execution_count": 9,
     "metadata": {},
     "output_type": "execute_result"
    }
   ],
   "source": [
    "dataset[0]"
   ]
  },
  {
   "cell_type": "code",
   "execution_count": 24,
   "id": "16525789",
   "metadata": {},
   "outputs": [],
   "source": [
    "model = torch.nn.LSTM(input_size=1, hidden_size=10, num_layers=1)"
   ]
  },
  {
   "cell_type": "code",
   "execution_count": 25,
   "id": "61d9e426",
   "metadata": {},
   "outputs": [],
   "source": [
    "x = torch.randn(3, 1)"
   ]
  },
  {
   "cell_type": "code",
   "execution_count": 27,
   "id": "997b4605",
   "metadata": {},
   "outputs": [],
   "source": [
    "output = model(x)"
   ]
  },
  {
   "cell_type": "code",
   "execution_count": 32,
   "id": "928dc9ed",
   "metadata": {},
   "outputs": [
    {
     "data": {
      "text/plain": [
       "(tensor([[-0.0479,  0.0398,  0.0071,  0.1052, -0.0073,  0.0414, -0.0541,  0.0067,\n",
       "           0.1058, -0.1488],\n",
       "         [-0.0417,  0.0077, -0.0151,  0.0620,  0.0090,  0.0742, -0.0126, -0.1539,\n",
       "           0.1614, -0.0683],\n",
       "         [-0.0471,  0.0189, -0.0029,  0.0794,  0.0111,  0.0999, -0.0527, -0.1246,\n",
       "           0.1717, -0.1077]], grad_fn=<SqueezeBackward1>),\n",
       " (tensor([[-0.0471,  0.0189, -0.0029,  0.0794,  0.0111,  0.0999, -0.0527, -0.1246,\n",
       "            0.1717, -0.1077]], grad_fn=<SqueezeBackward1>),\n",
       "  tensor([[-0.1196,  0.0492, -0.0052,  0.1432,  0.0259,  0.2555, -0.0944, -0.2565,\n",
       "            0.3807, -0.2751]], grad_fn=<SqueezeBackward1>)))"
      ]
     },
     "execution_count": 32,
     "metadata": {},
     "output_type": "execute_result"
    }
   ],
   "source": [
    "output"
   ]
  },
  {
   "cell_type": "code",
   "execution_count": 29,
   "id": "d6faa137",
   "metadata": {},
   "outputs": [],
   "source": [
    "x, (h, c) = output"
   ]
  },
  {
   "cell_type": "code",
   "execution_count": 31,
   "id": "597a000b",
   "metadata": {},
   "outputs": [
    {
     "data": {
      "text/plain": [
       "tensor([[-0.0471,  0.0189, -0.0029,  0.0794,  0.0111,  0.0999, -0.0527, -0.1246,\n",
       "          0.1717, -0.1077]], grad_fn=<SqueezeBackward1>)"
      ]
     },
     "execution_count": 31,
     "metadata": {},
     "output_type": "execute_result"
    }
   ],
   "source": [
    "h"
   ]
  },
  {
   "cell_type": "code",
   "execution_count": null,
   "id": "8f8d191b",
   "metadata": {},
   "outputs": [],
   "source": []
  }
 ],
 "metadata": {
  "kernelspec": {
   "display_name": "Python 3 (ipykernel)",
   "language": "python",
   "name": "python3"
  },
  "language_info": {
   "codemirror_mode": {
    "name": "ipython",
    "version": 3
   },
   "file_extension": ".py",
   "mimetype": "text/x-python",
   "name": "python",
   "nbconvert_exporter": "python",
   "pygments_lexer": "ipython3",
   "version": "3.9.13"
  }
 },
 "nbformat": 4,
 "nbformat_minor": 5
}
