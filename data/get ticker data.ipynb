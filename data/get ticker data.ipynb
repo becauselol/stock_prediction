{
 "cells": [
  {
   "cell_type": "code",
   "execution_count": 4,
   "id": "4a3f1828",
   "metadata": {},
   "outputs": [],
   "source": [
    "import pandas as pd\n",
    "import subprocess"
   ]
  },
  {
   "cell_type": "code",
   "execution_count": 2,
   "id": "a2dcf5b2",
   "metadata": {},
   "outputs": [],
   "source": [
    "tickers = pd.read_csv(\"../selected_tickers.csv\")"
   ]
  },
  {
   "cell_type": "code",
   "execution_count": 7,
   "id": "73d04b4d",
   "metadata": {},
   "outputs": [],
   "source": [
    "for i in tickers[\"ticker\"]:\n",
    "    subprocess.run([\"python\", \"get_ticker_data.py\", \"--ticker\", i])"
   ]
  },
  {
   "cell_type": "code",
   "execution_count": null,
   "id": "c98c1c62",
   "metadata": {},
   "outputs": [],
   "source": []
  }
 ],
 "metadata": {
  "kernelspec": {
   "display_name": "stock_predict",
   "language": "python",
   "name": "stock_predict"
  },
  "language_info": {
   "codemirror_mode": {
    "name": "ipython",
    "version": 3
   },
   "file_extension": ".py",
   "mimetype": "text/x-python",
   "name": "python",
   "nbconvert_exporter": "python",
   "pygments_lexer": "ipython3",
   "version": "3.11.4"
  }
 },
 "nbformat": 4,
 "nbformat_minor": 5
}
