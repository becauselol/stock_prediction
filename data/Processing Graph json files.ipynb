{
 "cells": [
  {
   "cell_type": "code",
   "execution_count": 1,
   "id": "f36c68d1",
   "metadata": {},
   "outputs": [],
   "source": [
    "import json\n",
    "import jsonlines\n",
    "import networkx as nx\n",
    "import pandas as pd\n",
    "from sec_cik_mapper import StockMapper\n",
    "import collections"
   ]
  },
  {
   "cell_type": "code",
   "execution_count": 14,
   "id": "6184930c",
   "metadata": {},
   "outputs": [],
   "source": [
    "path = 'AAPL_two_hop_subgraph - Copy.json'\n",
    "path = \"all_subgraphs/subgraph_two_hop_AAPL.json\""
   ]
  },
  {
   "cell_type": "code",
   "execution_count": 15,
   "id": "de5f6a9a",
   "metadata": {},
   "outputs": [],
   "source": [
    "with open(path) as user_file:\n",
    "    file_contents = user_file.read()"
   ]
  },
  {
   "cell_type": "code",
   "execution_count": 16,
   "id": "51ffe77e",
   "metadata": {},
   "outputs": [],
   "source": [
    "data = json.loads(file_contents)"
   ]
  },
  {
   "cell_type": "code",
   "execution_count": 23,
   "id": "6b81a72e",
   "metadata": {},
   "outputs": [
    {
     "data": {
      "text/plain": [
       "{'ticker': 'AAPL',\n",
       " 'cik': '0000320193',\n",
       " 'fiscalYearEnd': '0924',\n",
       " 'businessSegments': '',\n",
       " 'irsNumber': '942404110',\n",
       " 'exchangeTicker': 'Nasdaq',\n",
       " 'mailingAddress': 'ONE APPLE PARK WAY CUPERTINO CA 95014 CA',\n",
       " 'sicCode': '3571',\n",
       " 'stateCodeOfIncorporation': 'CA',\n",
       " 'name': 'Apple Inc.',\n",
       " 'productServices': '',\n",
       " 'stateCode': 'CA',\n",
       " 'businessAddress': 'ONE APPLE PARK WAY CUPERTINO CA 95014 CA (408) 996-1010'}"
      ]
     },
     "execution_count": 23,
     "metadata": {},
     "output_type": "execute_result"
    }
   ],
   "source": [
    "data[0][\"relationships\"][0][0]"
   ]
  },
  {
   "cell_type": "code",
   "execution_count": 5,
   "id": "391efb55",
   "metadata": {},
   "outputs": [],
   "source": [
    "# for i in data[0][\"nodes\"]:\n",
    "#     i[\"label\"] = i[\"labels\"][0]\n",
    "#     for k,v in i[\"properties\"].items():\n",
    "#         i[k] = v\n",
    "#     del i[\"properties\"]\n",
    "#     del i[\"labels\"]"
   ]
  },
  {
   "cell_type": "code",
   "execution_count": 6,
   "id": "57f8d196",
   "metadata": {},
   "outputs": [
    {
     "data": {
      "text/plain": [
       "{'identity': 91665,\n",
       " 'start': 1332,\n",
       " 'end': 950,\n",
       " 'type': 'HAS_STATE_LOCATION',\n",
       " 'properties': {},\n",
       " 'elementId': '91665',\n",
       " 'startNodeElementId': '1332',\n",
       " 'endNodeElementId': '950'}"
      ]
     },
     "execution_count": 6,
     "metadata": {},
     "output_type": "execute_result"
    }
   ],
   "source": [
    "data[0][\"relationships\"][0]"
   ]
  },
  {
   "cell_type": "code",
   "execution_count": 7,
   "id": "5237db39",
   "metadata": {},
   "outputs": [],
   "source": [
    "G = nx.Graph()"
   ]
  },
  {
   "cell_type": "code",
   "execution_count": 8,
   "id": "15d44e2e",
   "metadata": {},
   "outputs": [],
   "source": [
    "for i in data[0][\"nodes\"]:\n",
    "    G.add_node(i[\"identity\"], **i)"
   ]
  },
  {
   "cell_type": "code",
   "execution_count": 9,
   "id": "0055cc99",
   "metadata": {},
   "outputs": [],
   "source": [
    "for i in data[0][\"relationships\"]:\n",
    "    G.add_edge(i[\"start\"], i[\"end\"], **i)"
   ]
  },
  {
   "cell_type": "code",
   "execution_count": 10,
   "id": "f35cdf27",
   "metadata": {},
   "outputs": [
    {
     "data": {
      "text/plain": [
       "2584"
      ]
     },
     "execution_count": 10,
     "metadata": {},
     "output_type": "execute_result"
    }
   ],
   "source": [
    "len(G.nodes())"
   ]
  },
  {
   "cell_type": "code",
   "execution_count": 11,
   "id": "0efeaab1",
   "metadata": {},
   "outputs": [
    {
     "data": {
      "text/plain": [
       "6979"
      ]
     },
     "execution_count": 11,
     "metadata": {},
     "output_type": "execute_result"
    }
   ],
   "source": [
    "len(G.edges())"
   ]
  },
  {
   "cell_type": "code",
   "execution_count": 12,
   "id": "e1bfa08d",
   "metadata": {},
   "outputs": [],
   "source": [
    "def get_all_non_company_neighbours(G, origin):\n",
    "    res = []\n",
    "    for n in G.neighbors(origin):\n",
    "        if \"Company\" not in G.nodes[n][\"labels\"]:\n",
    "            res.append(n)\n",
    "    return res"
   ]
  },
  {
   "cell_type": "code",
   "execution_count": 13,
   "id": "92f7a6f4",
   "metadata": {},
   "outputs": [],
   "source": [
    "def create_new_edges(G, origin):\n",
    "    non_company_neighbours = get_all_non_company_neighbours(G, origin)\n",
    "    \n",
    "    for n in non_company_neighbours:\n",
    "        # get relation type\n",
    "        r_type = G.edges[origin, n][\"type\"]\n",
    "        \n",
    "        # get all nodes that are connected to it with the same type\n",
    "        for neighbour in G.neighbors(n):\n",
    "            # check their type\n",
    "            if r_type == G.edges[n, neighbour][\"type\"] and (\"Company\" in G.nodes[neighbour][\"labels\"]):\n",
    "                data = {\n",
    "                    \"start\": origin,\n",
    "                    \"end\": neighbour,\n",
    "                    \"type\": \"COMMON_\" + r_type\n",
    "                }\n",
    "                G.add_edge(origin, neighbour, **data)"
   ]
  },
  {
   "cell_type": "code",
   "execution_count": 74,
   "id": "c6a9c60d",
   "metadata": {
    "scrolled": false
   },
   "outputs": [],
   "source": [
    "for node in G.nodes():\n",
    "    create_new_edges(G, node)"
   ]
  },
  {
   "cell_type": "code",
   "execution_count": 75,
   "id": "4ffa8338",
   "metadata": {},
   "outputs": [],
   "source": [
    "type_rships_count = collections.defaultdict(int)\n",
    "for n in G.edges():\n",
    "    type_rships_count[G.edges[*n][\"type\"]] += 1"
   ]
  },
  {
   "cell_type": "code",
   "execution_count": 81,
   "id": "1e7ebad8",
   "metadata": {},
   "outputs": [],
   "source": [
    "for n in G.edges():\n",
    "    type_rships_count[G.edges[*n][\"type\"]] += 1"
   ]
  },
  {
   "cell_type": "code",
   "execution_count": 83,
   "id": "fabbcf86",
   "metadata": {},
   "outputs": [
    {
     "data": {
      "text/plain": [
       "2019833"
      ]
     },
     "execution_count": 83,
     "metadata": {},
     "output_type": "execute_result"
    }
   ],
   "source": [
    "len(G.edges())"
   ]
  },
  {
   "cell_type": "code",
   "execution_count": 82,
   "id": "304f5b76",
   "metadata": {},
   "outputs": [
    {
     "data": {
      "text/plain": [
       "defaultdict(int,\n",
       "            {'HAS_STATE_LOCATION': 1196,\n",
       "             'HAS_STATE_OF_INCORPORATION': 3532,\n",
       "             'HAS_EXCHANGE_MARKET': 3620,\n",
       "             'HAS_INSTRUMENTS_OF': 40,\n",
       "             'IS_PARTIAL_OWNER_OF': 19,\n",
       "             'COMMON_HAS_EXCHANGE_MARKET': 1443321,\n",
       "             'COMMON_HAS_STATE_OF_INCORPORATION': 935917,\n",
       "             'BELONGS_TO_INDUSTRY_OF': 442,\n",
       "             'IS_DIRECTOR_OF': 1997,\n",
       "             'COMMON_IS_DIRECTOR_OF': 3999,\n",
       "             'COMMON_HAS_STATE_LOCATION': 37561,\n",
       "             'COMMON_BELONGS_TO_INDUSTRY_OF': 34409,\n",
       "             'IS_STATE_OF': 8})"
      ]
     },
     "execution_count": 82,
     "metadata": {},
     "output_type": "execute_result"
    }
   ],
   "source": [
    "type_rships_count"
   ]
  },
  {
   "cell_type": "code",
   "execution_count": 66,
   "id": "b59eb214",
   "metadata": {},
   "outputs": [
    {
     "data": {
      "text/plain": [
       "2019833"
      ]
     },
     "execution_count": 66,
     "metadata": {},
     "output_type": "execute_result"
    }
   ],
   "source": [
    "len(G.edges())"
   ]
  },
  {
   "cell_type": "code",
   "execution_count": 115,
   "id": "c66595b4",
   "metadata": {},
   "outputs": [
    {
     "ename": "AttributeError",
     "evalue": "'AtlasView' object has no attribute 'neighbors'",
     "output_type": "error",
     "traceback": [
      "\u001b[1;31m---------------------------------------------------------------------------\u001b[0m",
      "\u001b[1;31mAttributeError\u001b[0m                            Traceback (most recent call last)",
      "Cell \u001b[1;32mIn[115], line 1\u001b[0m\n\u001b[1;32m----> 1\u001b[0m \u001b[43mG\u001b[49m\u001b[43m[\u001b[49m\u001b[38;5;241;43m950\u001b[39;49m\u001b[43m]\u001b[49m\u001b[38;5;241;43m.\u001b[39;49m\u001b[43mneighbors\u001b[49m\n",
      "\u001b[1;31mAttributeError\u001b[0m: 'AtlasView' object has no attribute 'neighbors'"
     ]
    }
   ],
   "source": [
    "G[950].neighbors"
   ]
  },
  {
   "cell_type": "code",
   "execution_count": 116,
   "id": "20972a7c",
   "metadata": {},
   "outputs": [
    {
     "data": {
      "text/plain": [
       "{'identity': 950,\n",
       " 'labels': ['State'],\n",
       " 'properties': {'name': 'CALIFORNIA', 'code': 'CA'},\n",
       " 'elementId': '950'}"
      ]
     },
     "execution_count": 116,
     "metadata": {},
     "output_type": "execute_result"
    }
   ],
   "source": [
    "G.nodes[950]"
   ]
  },
  {
   "cell_type": "code",
   "execution_count": 110,
   "id": "55d6303a",
   "metadata": {},
   "outputs": [
    {
     "data": {
      "text/plain": [
       "{'identity': 91665,\n",
       " 'start': 1332,\n",
       " 'end': 950,\n",
       " 'type': 'HAS_STATE_LOCATION',\n",
       " 'properties': {},\n",
       " 'elementId': '91665',\n",
       " 'startNodeElementId': '1332',\n",
       " 'endNodeElementId': '950'}"
      ]
     },
     "execution_count": 110,
     "metadata": {},
     "output_type": "execute_result"
    }
   ],
   "source": [
    "G.edges[1332, 950]"
   ]
  },
  {
   "cell_type": "code",
   "execution_count": 86,
   "id": "71152a70",
   "metadata": {},
   "outputs": [
    {
     "data": {
      "text/plain": [
       "{'identity': 1332,\n",
       " 'labels': ['Company'],\n",
       " 'properties': {'ticker': 'GOOG',\n",
       "  'cik': '0001652044',\n",
       "  'fiscalYearEnd': '1231',\n",
       "  'businessSegments': '',\n",
       "  'irsNumber': '611767919',\n",
       "  'exchangeTicker': 'Nasdaq',\n",
       "  'mailingAddress': '1600 AMPHITHEATRE PARKWAY MOUNTAIN VIEW CA 94043 CA',\n",
       "  'sicCode': '7370',\n",
       "  'stateCodeOfIncorporation': 'DE',\n",
       "  'name': 'Alphabet Inc.',\n",
       "  'productServices': '',\n",
       "  'stateCode': 'CA',\n",
       "  'businessAddress': '1600 AMPHITHEATRE PARKWAY MOUNTAIN VIEW CA 94043 CA 650-253-0000'},\n",
       " 'elementId': '1332'}"
      ]
     },
     "execution_count": 86,
     "metadata": {},
     "output_type": "execute_result"
    }
   ],
   "source": [
    "G.nodes[1332]"
   ]
  },
  {
   "cell_type": "code",
   "execution_count": 94,
   "id": "c2851ad5",
   "metadata": {},
   "outputs": [],
   "source": [
    "def get_all_required_companies(G):\n",
    "    companies = []\n",
    "    for node in G.nodes:\n",
    "        if \"Company\" in G.nodes[node][\"labels\"]:\n",
    "            companies.append(G.nodes[node][\"properties\"])\n",
    "    return companies"
   ]
  },
  {
   "cell_type": "code",
   "execution_count": 95,
   "id": "4cea5955",
   "metadata": {},
   "outputs": [],
   "source": [
    "tickers = get_all_required_companies(G)"
   ]
  },
  {
   "cell_type": "code",
   "execution_count": 104,
   "id": "5f2989f4",
   "metadata": {},
   "outputs": [
    {
     "name": "stdout",
     "output_type": "stream",
     "text": [
      "{'cik': '0001836833', 'name': 'Planet Labs PBC'}\n",
      "{'cik': '0001544522', 'name': 'Freshworks Inc.'}\n",
      "{'cik': '0001562088', 'name': 'Duolingo, Inc.'}\n",
      "{'cik': '0001568651', 'name': 'Oscar Health, Inc.'}\n",
      "{'cik': '0001693664', 'name': 'ARMO BioSciences, Inc.'}\n",
      "{'cik': '0001501697', 'name': 'X4 Pharmaceuticals, Inc'}\n",
      "{'cik': '0001412270', 'name': 'Care.com Inc'}\n",
      "{'cik': '0001288776', 'name': 'Google Inc.'}\n",
      "{'cik': '0000833829', 'name': 'WIND RIVER SYSTEMS INC'}\n",
      "{'cik': '0001855747', 'name': 'Blend Labs, Inc.'}\n",
      "{'cik': '0001006835', 'name': 'SIEBEL SYSTEMS INC'}\n",
      "{'cik': '0001140486', 'name': 'ATHEROS COMMUNICATIONS INC'}\n",
      "{'cik': '0000912833', 'name': 'WEST MARINE INC'}\n",
      "{'cik': '0000790070', 'name': 'EMC CORP'}\n",
      "{'cik': '0001002114', 'name': 'PIXAR CA'}\n",
      "{'cik': '0000925645', 'name': 'CENTRAL EUROPEAN MEDIA ENTERPRISES LTD'}\n",
      "{'cik': '0001108482', 'name': 'SHOPPING COM LTD'}\n",
      "{'cik': '0001366246', 'name': 'GLU MOBILE INC'}\n",
      "{'cik': '0001311230', 'name': 'TerraVia Holdings, Inc.'}\n",
      "{'cik': '0001125920', 'name': 'SHUTTERFLY INC'}\n",
      "{'cik': '0001559720', 'name': 'Airbnb, Inc.'}\n",
      "{'cik': '0001830043', 'name': 'Bumble Inc.'}\n",
      "{'cik': '0001651562', 'name': 'Coursera, Inc.'}\n",
      "{'cik': '0001091822', 'name': 'HANDSPRING INC'}\n",
      "{'cik': '0001100389', 'name': 'PALM INC'}\n",
      "{'cik': '0001086467', 'name': 'DRUGSTORE COM INC'}\n",
      "{'cik': '0000709519', 'name': 'SUN MICROSYSTEMS, INC.'}\n",
      "{'cik': '0001085770', 'name': 'MOVE INC'}\n",
      "{'cik': '0000096879', 'name': 'TEKTRONIX INC'}\n",
      "{'cik': '0001001113', 'name': 'HYPERION SOLUTIONS CORP'}\n",
      "{'cik': '0001059786', 'name': 'MIPS TECHNOLOGIES INC'}\n",
      "{'cik': '0001848410', 'name': 'Catalyst Partners Acquisition Corp.'}\n",
      "{'cik': '0001085776', 'name': 'LIBERATE TECHNOLOGIES'}\n",
      "{'cik': '0000949956', 'name': 'VERITY INC DE'}\n",
      "{'cik': '0001462633', 'name': 'Jive Software, Inc.'}\n"
     ]
    }
   ],
   "source": [
    "tickers_count = 0\n",
    "cik_count = 0\n",
    "for i in tickers:\n",
    "    if 'ticker' in i:\n",
    "        tickers_count += 1\n",
    "    else:\n",
    "        print(i)\n",
    "        \n",
    "    if 'cik' in i:\n",
    "        cik_count += 1\n",
    "    else:\n",
    "        print(i)  "
   ]
  },
  {
   "cell_type": "code",
   "execution_count": 102,
   "id": "9f173462",
   "metadata": {},
   "outputs": [
    {
     "data": {
      "text/plain": [
       "2259"
      ]
     },
     "execution_count": 102,
     "metadata": {},
     "output_type": "execute_result"
    }
   ],
   "source": [
    "len(tickers)"
   ]
  },
  {
   "cell_type": "code",
   "execution_count": 103,
   "id": "a6657ddc",
   "metadata": {},
   "outputs": [
    {
     "data": {
      "text/plain": [
       "2224"
      ]
     },
     "execution_count": 103,
     "metadata": {},
     "output_type": "execute_result"
    }
   ],
   "source": [
    "tickers_count"
   ]
  },
  {
   "cell_type": "code",
   "execution_count": 105,
   "id": "bcc337ef",
   "metadata": {},
   "outputs": [
    {
     "data": {
      "text/plain": [
       "2259"
      ]
     },
     "execution_count": 105,
     "metadata": {},
     "output_type": "execute_result"
    }
   ],
   "source": [
    "cik_count"
   ]
  },
  {
   "cell_type": "code",
   "execution_count": null,
   "id": "71023956",
   "metadata": {},
   "outputs": [],
   "source": []
  }
 ],
 "metadata": {
  "kernelspec": {
   "display_name": "stock_predict",
   "language": "python",
   "name": "stock_predict"
  },
  "language_info": {
   "codemirror_mode": {
    "name": "ipython",
    "version": 3
   },
   "file_extension": ".py",
   "mimetype": "text/x-python",
   "name": "python",
   "nbconvert_exporter": "python",
   "pygments_lexer": "ipython3",
   "version": "3.11.4"
  }
 },
 "nbformat": 4,
 "nbformat_minor": 5
}
